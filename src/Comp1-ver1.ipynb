{
 "cells": [
  {
   "cell_type": "code",
   "id": "initial_id",
   "metadata": {
    "collapsed": true,
    "ExecuteTime": {
     "end_time": "2024-08-17T21:37:20.836672Z",
     "start_time": "2024-08-17T21:37:20.456997Z"
    }
   },
   "source": [
    "import pandas as pd\n",
    "import numpy as np\n"
   ],
   "outputs": [],
   "execution_count": 1
  },
  {
   "metadata": {
    "ExecuteTime": {
     "end_time": "2024-08-17T21:42:15.738269Z",
     "start_time": "2024-08-17T21:42:08.690815Z"
    }
   },
   "cell_type": "code",
   "source": "datos=pd.read_csv(\"C:/Users/lupia/Documents/FACULTADES/MAESTRÍA/DM en economía y finanzas/datasets/competencia_01_crudo.csv\")",
   "id": "87cbc4c1063a189d",
   "outputs": [],
   "execution_count": 4
  },
  {
   "metadata": {
    "ExecuteTime": {
     "end_time": "2024-08-17T21:42:26.717946Z",
     "start_time": "2024-08-17T21:42:26.704047Z"
    }
   },
   "cell_type": "code",
   "source": "datos.head()",
   "id": "d7f17fd90e8534e7",
   "outputs": [
    {
     "data": {
      "text/plain": [
       "   numero_de_cliente  foto_mes  active_quarter  cliente_vip  internet  \\\n",
       "0          249221109    202101               1            0         0   \n",
       "1          249221468    202101               1            0         0   \n",
       "2          249223005    202101               1            0         0   \n",
       "3          249228180    202101               1            0         0   \n",
       "4          249232117    202101               1            0         0   \n",
       "\n",
       "   cliente_edad  cliente_antiguedad  mrentabilidad  mrentabilidad_annual  \\\n",
       "0            61                 300        1664.94              17994.40   \n",
       "1            53                  37        4879.78              18640.95   \n",
       "2            48                 202        1828.35              37789.01   \n",
       "3            66                 320         175.87               2600.67   \n",
       "4            79                 373       16600.69              32270.07   \n",
       "\n",
       "   mcomisiones  ...  Visa_madelantodolares  Visa_fultimo_cierre  Visa_mpagado  \\\n",
       "0      1605.81  ...                    0.0                  4.0           0.0   \n",
       "1      1149.08  ...                    0.0                  4.0           0.0   \n",
       "2       610.12  ...                    0.0                  4.0           0.0   \n",
       "3       276.22  ...                    0.0                  4.0           0.0   \n",
       "4     16367.13  ...                    0.0                  4.0           0.0   \n",
       "\n",
       "   Visa_mpagospesos  Visa_mpagosdolares  Visa_fechaalta  Visa_mconsumototal  \\\n",
       "0         -37098.90                 0.0          7867.0           118514.88   \n",
       "1          -9864.93                 0.0          1124.0            31427.14   \n",
       "2         -32119.08                 0.0          3486.0              855.11   \n",
       "3         -10891.30                 0.0          8925.0             7517.73   \n",
       "4         -43610.75                 0.0          8607.0            37309.25   \n",
       "\n",
       "   Visa_cconsumos  Visa_cadelantosefectivo  Visa_mpagominimo  \n",
       "0            10.0                      0.0          76538.25  \n",
       "1            14.0                      0.0              0.00  \n",
       "2             2.0                      0.0          19389.69  \n",
       "3             6.0                      0.0            516.12  \n",
       "4             5.0                      0.0           3084.99  \n",
       "\n",
       "[5 rows x 154 columns]"
      ],
      "text/html": [
       "<div>\n",
       "<style scoped>\n",
       "    .dataframe tbody tr th:only-of-type {\n",
       "        vertical-align: middle;\n",
       "    }\n",
       "\n",
       "    .dataframe tbody tr th {\n",
       "        vertical-align: top;\n",
       "    }\n",
       "\n",
       "    .dataframe thead th {\n",
       "        text-align: right;\n",
       "    }\n",
       "</style>\n",
       "<table border=\"1\" class=\"dataframe\">\n",
       "  <thead>\n",
       "    <tr style=\"text-align: right;\">\n",
       "      <th></th>\n",
       "      <th>numero_de_cliente</th>\n",
       "      <th>foto_mes</th>\n",
       "      <th>active_quarter</th>\n",
       "      <th>cliente_vip</th>\n",
       "      <th>internet</th>\n",
       "      <th>cliente_edad</th>\n",
       "      <th>cliente_antiguedad</th>\n",
       "      <th>mrentabilidad</th>\n",
       "      <th>mrentabilidad_annual</th>\n",
       "      <th>mcomisiones</th>\n",
       "      <th>...</th>\n",
       "      <th>Visa_madelantodolares</th>\n",
       "      <th>Visa_fultimo_cierre</th>\n",
       "      <th>Visa_mpagado</th>\n",
       "      <th>Visa_mpagospesos</th>\n",
       "      <th>Visa_mpagosdolares</th>\n",
       "      <th>Visa_fechaalta</th>\n",
       "      <th>Visa_mconsumototal</th>\n",
       "      <th>Visa_cconsumos</th>\n",
       "      <th>Visa_cadelantosefectivo</th>\n",
       "      <th>Visa_mpagominimo</th>\n",
       "    </tr>\n",
       "  </thead>\n",
       "  <tbody>\n",
       "    <tr>\n",
       "      <th>0</th>\n",
       "      <td>249221109</td>\n",
       "      <td>202101</td>\n",
       "      <td>1</td>\n",
       "      <td>0</td>\n",
       "      <td>0</td>\n",
       "      <td>61</td>\n",
       "      <td>300</td>\n",
       "      <td>1664.94</td>\n",
       "      <td>17994.40</td>\n",
       "      <td>1605.81</td>\n",
       "      <td>...</td>\n",
       "      <td>0.0</td>\n",
       "      <td>4.0</td>\n",
       "      <td>0.0</td>\n",
       "      <td>-37098.90</td>\n",
       "      <td>0.0</td>\n",
       "      <td>7867.0</td>\n",
       "      <td>118514.88</td>\n",
       "      <td>10.0</td>\n",
       "      <td>0.0</td>\n",
       "      <td>76538.25</td>\n",
       "    </tr>\n",
       "    <tr>\n",
       "      <th>1</th>\n",
       "      <td>249221468</td>\n",
       "      <td>202101</td>\n",
       "      <td>1</td>\n",
       "      <td>0</td>\n",
       "      <td>0</td>\n",
       "      <td>53</td>\n",
       "      <td>37</td>\n",
       "      <td>4879.78</td>\n",
       "      <td>18640.95</td>\n",
       "      <td>1149.08</td>\n",
       "      <td>...</td>\n",
       "      <td>0.0</td>\n",
       "      <td>4.0</td>\n",
       "      <td>0.0</td>\n",
       "      <td>-9864.93</td>\n",
       "      <td>0.0</td>\n",
       "      <td>1124.0</td>\n",
       "      <td>31427.14</td>\n",
       "      <td>14.0</td>\n",
       "      <td>0.0</td>\n",
       "      <td>0.00</td>\n",
       "    </tr>\n",
       "    <tr>\n",
       "      <th>2</th>\n",
       "      <td>249223005</td>\n",
       "      <td>202101</td>\n",
       "      <td>1</td>\n",
       "      <td>0</td>\n",
       "      <td>0</td>\n",
       "      <td>48</td>\n",
       "      <td>202</td>\n",
       "      <td>1828.35</td>\n",
       "      <td>37789.01</td>\n",
       "      <td>610.12</td>\n",
       "      <td>...</td>\n",
       "      <td>0.0</td>\n",
       "      <td>4.0</td>\n",
       "      <td>0.0</td>\n",
       "      <td>-32119.08</td>\n",
       "      <td>0.0</td>\n",
       "      <td>3486.0</td>\n",
       "      <td>855.11</td>\n",
       "      <td>2.0</td>\n",
       "      <td>0.0</td>\n",
       "      <td>19389.69</td>\n",
       "    </tr>\n",
       "    <tr>\n",
       "      <th>3</th>\n",
       "      <td>249228180</td>\n",
       "      <td>202101</td>\n",
       "      <td>1</td>\n",
       "      <td>0</td>\n",
       "      <td>0</td>\n",
       "      <td>66</td>\n",
       "      <td>320</td>\n",
       "      <td>175.87</td>\n",
       "      <td>2600.67</td>\n",
       "      <td>276.22</td>\n",
       "      <td>...</td>\n",
       "      <td>0.0</td>\n",
       "      <td>4.0</td>\n",
       "      <td>0.0</td>\n",
       "      <td>-10891.30</td>\n",
       "      <td>0.0</td>\n",
       "      <td>8925.0</td>\n",
       "      <td>7517.73</td>\n",
       "      <td>6.0</td>\n",
       "      <td>0.0</td>\n",
       "      <td>516.12</td>\n",
       "    </tr>\n",
       "    <tr>\n",
       "      <th>4</th>\n",
       "      <td>249232117</td>\n",
       "      <td>202101</td>\n",
       "      <td>1</td>\n",
       "      <td>0</td>\n",
       "      <td>0</td>\n",
       "      <td>79</td>\n",
       "      <td>373</td>\n",
       "      <td>16600.69</td>\n",
       "      <td>32270.07</td>\n",
       "      <td>16367.13</td>\n",
       "      <td>...</td>\n",
       "      <td>0.0</td>\n",
       "      <td>4.0</td>\n",
       "      <td>0.0</td>\n",
       "      <td>-43610.75</td>\n",
       "      <td>0.0</td>\n",
       "      <td>8607.0</td>\n",
       "      <td>37309.25</td>\n",
       "      <td>5.0</td>\n",
       "      <td>0.0</td>\n",
       "      <td>3084.99</td>\n",
       "    </tr>\n",
       "  </tbody>\n",
       "</table>\n",
       "<p>5 rows × 154 columns</p>\n",
       "</div>"
      ]
     },
     "execution_count": 5,
     "metadata": {},
     "output_type": "execute_result"
    }
   ],
   "execution_count": 5
  },
  {
   "metadata": {
    "ExecuteTime": {
     "end_time": "2024-08-17T21:43:50.969865Z",
     "start_time": "2024-08-17T21:43:50.961711Z"
    }
   },
   "cell_type": "code",
   "source": "datos.foto_mes.unique()",
   "id": "44754e2126ecd6cf",
   "outputs": [
    {
     "data": {
      "text/plain": [
       "array([202101, 202102, 202103, 202104, 202105, 202106])"
      ]
     },
     "execution_count": 6,
     "metadata": {},
     "output_type": "execute_result"
    }
   ],
   "execution_count": 6
  },
  {
   "metadata": {
    "ExecuteTime": {
     "end_time": "2024-08-17T21:45:16.046422Z",
     "start_time": "2024-08-17T21:45:16.043132Z"
    }
   },
   "cell_type": "code",
   "source": "datos.shape",
   "id": "39a2f604bd1bfb34",
   "outputs": [
    {
     "data": {
      "text/plain": [
       "(981946, 154)"
      ]
     },
     "execution_count": 7,
     "metadata": {},
     "output_type": "execute_result"
    }
   ],
   "execution_count": 7
  },
  {
   "metadata": {
    "ExecuteTime": {
     "end_time": "2024-08-17T21:46:41.786247Z",
     "start_time": "2024-08-17T21:46:41.704468Z"
    }
   },
   "cell_type": "code",
   "source": "datos_junio=datos[datos.foto_mes==202106]",
   "id": "afb1b8785d4f49c1",
   "outputs": [],
   "execution_count": 9
  },
  {
   "metadata": {
    "ExecuteTime": {
     "end_time": "2024-08-17T21:46:53.834038Z",
     "start_time": "2024-08-17T21:46:53.829834Z"
    }
   },
   "cell_type": "code",
   "source": "datos_junio.shape",
   "id": "8862a7e27ec5ed73",
   "outputs": [
    {
     "data": {
      "text/plain": [
       "(164876, 154)"
      ]
     },
     "execution_count": 10,
     "metadata": {},
     "output_type": "execute_result"
    }
   ],
   "execution_count": 10
  },
  {
   "metadata": {},
   "cell_type": "markdown",
   "source": [
    "crear una nueva columna que se llame clase ternaria\n",
    "\n",
    "los ids que estan en enero y no estan en febrero, colocar baja+1\n",
    "\n",
    "los ids que estan en enero y no estan en marzo, colocar baja+2\n",
    "\n",
    "los ids que estan en enero y si estan en abril, colocar continua\n",
    "\n",
    "repetir lo  mismo para febrero, marzo, abril\n"
   ],
   "id": "36a2465232a52d83"
  },
  {
   "metadata": {
    "ExecuteTime": {
     "end_time": "2024-08-17T21:59:15.299411Z",
     "start_time": "2024-08-17T21:59:15.293422Z"
    }
   },
   "cell_type": "code",
   "source": "datos['clase_ternaria']=''",
   "id": "863191d8a9328cd5",
   "outputs": [],
   "execution_count": 12
  },
  {
   "metadata": {
    "ExecuteTime": {
     "end_time": "2024-08-17T22:09:14.105542Z",
     "start_time": "2024-08-17T22:09:14.101609Z"
    }
   },
   "cell_type": "code",
   "source": "datos.columns",
   "id": "b7d98a5447cb7bbb",
   "outputs": [
    {
     "data": {
      "text/plain": [
       "Index(['numero_de_cliente', 'foto_mes', 'active_quarter', 'cliente_vip',\n",
       "       'internet', 'cliente_edad', 'cliente_antiguedad', 'mrentabilidad',\n",
       "       'mrentabilidad_annual', 'mcomisiones',\n",
       "       ...\n",
       "       'Visa_fultimo_cierre', 'Visa_mpagado', 'Visa_mpagospesos',\n",
       "       'Visa_mpagosdolares', 'Visa_fechaalta', 'Visa_mconsumototal',\n",
       "       'Visa_cconsumos', 'Visa_cadelantosefectivo', 'Visa_mpagominimo',\n",
       "       'clase_ternaria'],\n",
       "      dtype='object', length=155)"
      ]
     },
     "execution_count": 14,
     "metadata": {},
     "output_type": "execute_result"
    }
   ],
   "execution_count": 14
  },
  {
   "metadata": {},
   "cell_type": "code",
   "outputs": [],
   "execution_count": null,
   "source": "datos.loc[(datos['foto_mes']==202101)]",
   "id": "85e3c5ee91bc6647"
  },
  {
   "metadata": {
    "ExecuteTime": {
     "end_time": "2024-08-17T22:13:38.416008Z",
     "start_time": "2024-08-17T22:13:38.412297Z"
    }
   },
   "cell_type": "code",
   "source": [
    "def asignar_clase_ternaria(df, mes_actual, mes_siguiente, mes_dos_meses):\n",
    "    # Iterar sobre cada cliente en el mes actual\n",
    "    for index, row in df[df['foto_mes'] == mes_actual].iterrows():\n",
    "        nro_cliente = row['numero_de_cliente']\n",
    "        # Verificar si el cliente está en el mes siguiente\n",
    "        if not df[(df['foto_mes'] == mes_siguiente) & (df['numero_de_cliente'] == nro_cliente)].empty:\n",
    "            # Verificar si el cliente está en dos meses después\n",
    "            if not df[(df['foto_mes'] == mes_dos_meses) & (df['numero_de_cliente'] == nro_cliente)].empty:\n",
    "                df.loc[index, 'clase_ternaria'] = 'CONTINUA'\n",
    "            else:\n",
    "                df.loc[index, 'clase_ternaria'] = 'BAJA+2'\n",
    "        else:\n",
    "            df.loc[index, 'clase_ternaria'] = 'BAJA+1'\n",
    "    return df"
   ],
   "id": "2940427b226fde1c",
   "outputs": [],
   "execution_count": 17
  },
  {
   "metadata": {
    "ExecuteTime": {
     "end_time": "2024-08-17T22:21:12.461916Z",
     "start_time": "2024-08-17T22:13:41.458557Z"
    }
   },
   "cell_type": "code",
   "source": [
    "# Aplicar la función para cada mes\n",
    "datos = asignar_clase_ternaria(datos, 202101, 202102, 202103)"
   ],
   "id": "8e123e80612ed81a",
   "outputs": [],
   "execution_count": 18
  },
  {
   "metadata": {
    "ExecuteTime": {
     "end_time": "2024-08-17T22:21:38.848597Z",
     "start_time": "2024-08-17T22:21:38.833903Z"
    }
   },
   "cell_type": "code",
   "source": "datos.head()",
   "id": "3b104056cd7bc291",
   "outputs": [
    {
     "data": {
      "text/plain": [
       "   numero_de_cliente  foto_mes  active_quarter  cliente_vip  internet  \\\n",
       "0          249221109    202101               1            0         0   \n",
       "1          249221468    202101               1            0         0   \n",
       "2          249223005    202101               1            0         0   \n",
       "3          249228180    202101               1            0         0   \n",
       "4          249232117    202101               1            0         0   \n",
       "\n",
       "   cliente_edad  cliente_antiguedad  mrentabilidad  mrentabilidad_annual  \\\n",
       "0            61                 300        1664.94              17994.40   \n",
       "1            53                  37        4879.78              18640.95   \n",
       "2            48                 202        1828.35              37789.01   \n",
       "3            66                 320         175.87               2600.67   \n",
       "4            79                 373       16600.69              32270.07   \n",
       "\n",
       "   mcomisiones  ...  Visa_fultimo_cierre  Visa_mpagado  Visa_mpagospesos  \\\n",
       "0      1605.81  ...                  4.0           0.0         -37098.90   \n",
       "1      1149.08  ...                  4.0           0.0          -9864.93   \n",
       "2       610.12  ...                  4.0           0.0         -32119.08   \n",
       "3       276.22  ...                  4.0           0.0         -10891.30   \n",
       "4     16367.13  ...                  4.0           0.0         -43610.75   \n",
       "\n",
       "   Visa_mpagosdolares  Visa_fechaalta  Visa_mconsumototal  Visa_cconsumos  \\\n",
       "0                 0.0          7867.0           118514.88            10.0   \n",
       "1                 0.0          1124.0            31427.14            14.0   \n",
       "2                 0.0          3486.0              855.11             2.0   \n",
       "3                 0.0          8925.0             7517.73             6.0   \n",
       "4                 0.0          8607.0            37309.25             5.0   \n",
       "\n",
       "   Visa_cadelantosefectivo  Visa_mpagominimo  clase_ternaria  \n",
       "0                      0.0          76538.25        CONTINUA  \n",
       "1                      0.0              0.00        CONTINUA  \n",
       "2                      0.0          19389.69        CONTINUA  \n",
       "3                      0.0            516.12        CONTINUA  \n",
       "4                      0.0           3084.99        CONTINUA  \n",
       "\n",
       "[5 rows x 155 columns]"
      ],
      "text/html": [
       "<div>\n",
       "<style scoped>\n",
       "    .dataframe tbody tr th:only-of-type {\n",
       "        vertical-align: middle;\n",
       "    }\n",
       "\n",
       "    .dataframe tbody tr th {\n",
       "        vertical-align: top;\n",
       "    }\n",
       "\n",
       "    .dataframe thead th {\n",
       "        text-align: right;\n",
       "    }\n",
       "</style>\n",
       "<table border=\"1\" class=\"dataframe\">\n",
       "  <thead>\n",
       "    <tr style=\"text-align: right;\">\n",
       "      <th></th>\n",
       "      <th>numero_de_cliente</th>\n",
       "      <th>foto_mes</th>\n",
       "      <th>active_quarter</th>\n",
       "      <th>cliente_vip</th>\n",
       "      <th>internet</th>\n",
       "      <th>cliente_edad</th>\n",
       "      <th>cliente_antiguedad</th>\n",
       "      <th>mrentabilidad</th>\n",
       "      <th>mrentabilidad_annual</th>\n",
       "      <th>mcomisiones</th>\n",
       "      <th>...</th>\n",
       "      <th>Visa_fultimo_cierre</th>\n",
       "      <th>Visa_mpagado</th>\n",
       "      <th>Visa_mpagospesos</th>\n",
       "      <th>Visa_mpagosdolares</th>\n",
       "      <th>Visa_fechaalta</th>\n",
       "      <th>Visa_mconsumototal</th>\n",
       "      <th>Visa_cconsumos</th>\n",
       "      <th>Visa_cadelantosefectivo</th>\n",
       "      <th>Visa_mpagominimo</th>\n",
       "      <th>clase_ternaria</th>\n",
       "    </tr>\n",
       "  </thead>\n",
       "  <tbody>\n",
       "    <tr>\n",
       "      <th>0</th>\n",
       "      <td>249221109</td>\n",
       "      <td>202101</td>\n",
       "      <td>1</td>\n",
       "      <td>0</td>\n",
       "      <td>0</td>\n",
       "      <td>61</td>\n",
       "      <td>300</td>\n",
       "      <td>1664.94</td>\n",
       "      <td>17994.40</td>\n",
       "      <td>1605.81</td>\n",
       "      <td>...</td>\n",
       "      <td>4.0</td>\n",
       "      <td>0.0</td>\n",
       "      <td>-37098.90</td>\n",
       "      <td>0.0</td>\n",
       "      <td>7867.0</td>\n",
       "      <td>118514.88</td>\n",
       "      <td>10.0</td>\n",
       "      <td>0.0</td>\n",
       "      <td>76538.25</td>\n",
       "      <td>CONTINUA</td>\n",
       "    </tr>\n",
       "    <tr>\n",
       "      <th>1</th>\n",
       "      <td>249221468</td>\n",
       "      <td>202101</td>\n",
       "      <td>1</td>\n",
       "      <td>0</td>\n",
       "      <td>0</td>\n",
       "      <td>53</td>\n",
       "      <td>37</td>\n",
       "      <td>4879.78</td>\n",
       "      <td>18640.95</td>\n",
       "      <td>1149.08</td>\n",
       "      <td>...</td>\n",
       "      <td>4.0</td>\n",
       "      <td>0.0</td>\n",
       "      <td>-9864.93</td>\n",
       "      <td>0.0</td>\n",
       "      <td>1124.0</td>\n",
       "      <td>31427.14</td>\n",
       "      <td>14.0</td>\n",
       "      <td>0.0</td>\n",
       "      <td>0.00</td>\n",
       "      <td>CONTINUA</td>\n",
       "    </tr>\n",
       "    <tr>\n",
       "      <th>2</th>\n",
       "      <td>249223005</td>\n",
       "      <td>202101</td>\n",
       "      <td>1</td>\n",
       "      <td>0</td>\n",
       "      <td>0</td>\n",
       "      <td>48</td>\n",
       "      <td>202</td>\n",
       "      <td>1828.35</td>\n",
       "      <td>37789.01</td>\n",
       "      <td>610.12</td>\n",
       "      <td>...</td>\n",
       "      <td>4.0</td>\n",
       "      <td>0.0</td>\n",
       "      <td>-32119.08</td>\n",
       "      <td>0.0</td>\n",
       "      <td>3486.0</td>\n",
       "      <td>855.11</td>\n",
       "      <td>2.0</td>\n",
       "      <td>0.0</td>\n",
       "      <td>19389.69</td>\n",
       "      <td>CONTINUA</td>\n",
       "    </tr>\n",
       "    <tr>\n",
       "      <th>3</th>\n",
       "      <td>249228180</td>\n",
       "      <td>202101</td>\n",
       "      <td>1</td>\n",
       "      <td>0</td>\n",
       "      <td>0</td>\n",
       "      <td>66</td>\n",
       "      <td>320</td>\n",
       "      <td>175.87</td>\n",
       "      <td>2600.67</td>\n",
       "      <td>276.22</td>\n",
       "      <td>...</td>\n",
       "      <td>4.0</td>\n",
       "      <td>0.0</td>\n",
       "      <td>-10891.30</td>\n",
       "      <td>0.0</td>\n",
       "      <td>8925.0</td>\n",
       "      <td>7517.73</td>\n",
       "      <td>6.0</td>\n",
       "      <td>0.0</td>\n",
       "      <td>516.12</td>\n",
       "      <td>CONTINUA</td>\n",
       "    </tr>\n",
       "    <tr>\n",
       "      <th>4</th>\n",
       "      <td>249232117</td>\n",
       "      <td>202101</td>\n",
       "      <td>1</td>\n",
       "      <td>0</td>\n",
       "      <td>0</td>\n",
       "      <td>79</td>\n",
       "      <td>373</td>\n",
       "      <td>16600.69</td>\n",
       "      <td>32270.07</td>\n",
       "      <td>16367.13</td>\n",
       "      <td>...</td>\n",
       "      <td>4.0</td>\n",
       "      <td>0.0</td>\n",
       "      <td>-43610.75</td>\n",
       "      <td>0.0</td>\n",
       "      <td>8607.0</td>\n",
       "      <td>37309.25</td>\n",
       "      <td>5.0</td>\n",
       "      <td>0.0</td>\n",
       "      <td>3084.99</td>\n",
       "      <td>CONTINUA</td>\n",
       "    </tr>\n",
       "  </tbody>\n",
       "</table>\n",
       "<p>5 rows × 155 columns</p>\n",
       "</div>"
      ]
     },
     "execution_count": 19,
     "metadata": {},
     "output_type": "execute_result"
    }
   ],
   "execution_count": 19
  },
  {
   "metadata": {
    "ExecuteTime": {
     "end_time": "2024-08-17T22:29:33.488719Z",
     "start_time": "2024-08-17T22:21:59.456317Z"
    }
   },
   "cell_type": "code",
   "source": "datos = asignar_clase_ternaria(datos, 202102, 202103, 202104)",
   "id": "7151ecc45bbce72a",
   "outputs": [],
   "execution_count": 20
  },
  {
   "metadata": {
    "ExecuteTime": {
     "end_time": "2024-08-17T22:37:01.135288Z",
     "start_time": "2024-08-17T22:29:33.489723Z"
    }
   },
   "cell_type": "code",
   "source": "datos = asignar_clase_ternaria(datos, 202103, 202104, 202105)",
   "id": "27a2c431866d3e09",
   "outputs": [],
   "execution_count": 21
  },
  {
   "metadata": {
    "ExecuteTime": {
     "end_time": "2024-08-17T22:44:28.776060Z",
     "start_time": "2024-08-17T22:37:01.136295Z"
    }
   },
   "cell_type": "code",
   "source": "datos = asignar_clase_ternaria(datos, 202104, 202105, 202106)",
   "id": "490bb4aa754486b0",
   "outputs": [],
   "execution_count": 22
  },
  {
   "metadata": {
    "ExecuteTime": {
     "end_time": "2024-08-17T22:45:08.706798Z",
     "start_time": "2024-08-17T22:45:08.630570Z"
    }
   },
   "cell_type": "code",
   "source": "baja_2_enero = sum((datos['foto_mes'] == 202101) & (datos['clase_ternaria'] == 'BAJA+2'))",
   "id": "cf28a9431e8ca517",
   "outputs": [],
   "execution_count": 23
  },
  {
   "metadata": {
    "ExecuteTime": {
     "end_time": "2024-08-17T22:45:24.398533Z",
     "start_time": "2024-08-17T22:45:24.395140Z"
    }
   },
   "cell_type": "code",
   "source": "baja_2_enero",
   "id": "e1a8d925d569d775",
   "outputs": [
    {
     "data": {
      "text/plain": [
       "785"
      ]
     },
     "execution_count": 24,
     "metadata": {},
     "output_type": "execute_result"
    }
   ],
   "execution_count": 24
  },
  {
   "metadata": {
    "ExecuteTime": {
     "end_time": "2024-08-17T22:46:12.860118Z",
     "start_time": "2024-08-17T22:45:28.044191Z"
    }
   },
   "cell_type": "code",
   "source": "datos.to_csv(\"C:/Users/lupia/Documents/FACULTADES/MAESTRÍA/DM en economía y finanzas/datasets/competencia_01.csv\", index=True)",
   "id": "b465d16af354d121",
   "outputs": [],
   "execution_count": 25
  },
  {
   "metadata": {
    "ExecuteTime": {
     "end_time": "2024-08-17T22:52:37.572600Z",
     "start_time": "2024-08-17T22:52:37.540882Z"
    }
   },
   "cell_type": "code",
   "source": "datos_kaggle=pd.read_csv(\"C:/Users/lupia/Documents/FACULTADES/MAESTRÍA/DM en economía y finanzas/exp/KA2001/K101_001.csv\")",
   "id": "c7ae9aec535bec9d",
   "outputs": [],
   "execution_count": 27
  },
  {
   "metadata": {
    "ExecuteTime": {
     "end_time": "2024-08-17T22:53:11.563234Z",
     "start_time": "2024-08-17T22:53:11.558306Z"
    }
   },
   "cell_type": "code",
   "source": "datos_kaggle.shape",
   "id": "de6d075c8b4ff0c3",
   "outputs": [
    {
     "data": {
      "text/plain": [
       "(164876, 2)"
      ]
     },
     "execution_count": 29,
     "metadata": {},
     "output_type": "execute_result"
    }
   ],
   "execution_count": 29
  },
  {
   "metadata": {},
   "cell_type": "code",
   "outputs": [],
   "execution_count": null,
   "source": "",
   "id": "7ad658faba20c5a1"
  }
 ],
 "metadata": {
  "kernelspec": {
   "display_name": "Python 3",
   "language": "python",
   "name": "python3"
  },
  "language_info": {
   "codemirror_mode": {
    "name": "ipython",
    "version": 2
   },
   "file_extension": ".py",
   "mimetype": "text/x-python",
   "name": "python",
   "nbconvert_exporter": "python",
   "pygments_lexer": "ipython2",
   "version": "2.7.6"
  }
 },
 "nbformat": 4,
 "nbformat_minor": 5
}
